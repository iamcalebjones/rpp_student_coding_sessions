{
 "cells": [
  {
   "cell_type": "markdown",
   "metadata": {},
   "source": [
    "https://www.codewars.com/kata/5a5db0f580eba84589000979"
   ]
  },
  {
   "cell_type": "code",
   "execution_count": 1,
   "metadata": {},
   "outputs": [],
   "source": [
    "loc = [1,1]"
   ]
  },
  {
   "cell_type": "code",
   "execution_count": 7,
   "metadata": {},
   "outputs": [],
   "source": [
    "loc[0]-=1\n",
    "loc[1]-=1"
   ]
  },
  {
   "cell_type": "code",
   "execution_count": 8,
   "metadata": {},
   "outputs": [
    {
     "data": {
      "text/plain": [
       "[0, 0]"
      ]
     },
     "execution_count": 8,
     "metadata": {},
     "output_type": "execute_result"
    }
   ],
   "source": [
    "loc"
   ]
  },
  {
   "cell_type": "code",
   "execution_count": 32,
   "metadata": {},
   "outputs": [],
   "source": [
    "import numpy as np\n",
    "from scipy.ndimage.interpolation import shift"
   ]
  },
  {
   "cell_type": "code",
   "execution_count": 33,
   "metadata": {},
   "outputs": [],
   "source": [
    "shift?"
   ]
  },
  {
   "cell_type": "markdown",
   "metadata": {},
   "source": [
    "#### What are the inputs?\n",
    "1. board setup\n",
    "2. lawn is a string that tells you where plants are.\n",
    "3. zombies has when zombie appears, the row, and the health points\n",
    "\n",
    "lawn is a list of strings \n",
    "\n",
    "zombies is a list of lists [enter move, row, hit points]\n",
    "\n",
    "```\n",
    "[\n",
    "    [\n",
    "        '2       ',\n",
    "        '  S     ',\n",
    "        '21  S   ',\n",
    "        '13      ',\n",
    "        '2 3     '],\n",
    "        \n",
    "    [[0,4,28],[1,1,6],[2,0,10],[2,4,15],[3,2,16],[3,3,13]]]\n",
    "```\n",
    "\n",
    "#### What is the desired output?\n",
    "either the number of moves when zombies penetrate defense, or None (zombies lose).\n",
    "\n",
    "\n",
    "#### What are the steps of the game?\n",
    "\n",
    "1. parse the input\n",
    "    - creat an array?\n",
    "    - maybe a matrix for the lawn?\n",
    "    \n",
    "    \n",
    "2. zombies take action\n",
    "3. plants shoot\n",
    "4. evaluate how many health points zombies have left\n",
    "5. record turn number\n"
   ]
  },
  {
   "cell_type": "code",
   "execution_count": 43,
   "metadata": {},
   "outputs": [],
   "source": [
    "class Game:\n",
    "    \n",
    "    def __init__(self, inputs):\n",
    "        self.parse(inputs)\n",
    "        self.turn = 0\n",
    "            \n",
    "            \n",
    "    def parse(self, inputs):\n",
    "        self.game_over = False\n",
    "        self.parse_lawn(inputs[0])\n",
    "        self.parse_zombies(inputs[1])\n",
    "    \n",
    "    def parse_lawn(self, lawn):\n",
    "        '''\n",
    "        convert string into an array that holds information about plants\n",
    "        ----\n",
    "        params:\n",
    "            inputs: list of strings that describe the 'lawn'\n",
    "\n",
    "        returns:\n",
    "            None\n",
    "        '''\n",
    "        self.lawn = np.array([list(row) for row in lawn])\n",
    "        \n",
    "    \n",
    "    def parse_zombies(self, inputs):\n",
    "        '''\n",
    "        convert list into ??? that holds information about zombies\n",
    "        ----\n",
    "        params:\n",
    "            zombies: list of lists that contain integers describing teh zombies\n",
    "\n",
    "        returns:\n",
    "            None\n",
    "        '''\n",
    "        # we could use a dictionary {zombie id: int, location: tuple (row, col), hp: int}\n",
    "        # we could use a numpy array for the zombies with location by row/col and values = hp\n",
    "        # we could leave it as is, and reference it later\n",
    "        self.zombie_waiting_list = zombies\n",
    "        self.zombies = np.zeros(self.lawn.shape)\n",
    "        \n",
    "    def play_one_turn(self):\n",
    "        '''\n",
    "        plays one turn of the game\n",
    "        '''\n",
    "        self.move_zombies()\n",
    "        self.enter_zombies()\n",
    "        self.plants_shoot()\n",
    "        self.turn += 1\n",
    "        print(self.zombies)\n",
    "\n",
    "    def play(self):\n",
    "        '''\n",
    "        plays game to completion\n",
    "        '''\n",
    "        while self.game_over is False:\n",
    "            self.play_one_turn()\n",
    "        \n",
    "    def enter_zombies(self):\n",
    "        '''\n",
    "        bring zombies to the board if it's their turn\n",
    "        '''\n",
    "        # loop through the zombie waiting list\n",
    "        # if zombie[0] is this turn, move it onto the board\n",
    "        \n",
    "        # for ever zombie in the waiting list\n",
    "        for zombie in self.zombie_waiting_list:\n",
    "            \n",
    "            # if zombie's turn\n",
    "            if zombie[0] == self.turn:\n",
    "                \n",
    "                # the row it should enter on is zombie[1]\n",
    "                row = zombie[1]\n",
    "                \n",
    "                # place thsi zombie at position row, last column\n",
    "                # the value assigned is the zombie hit points or health\n",
    "                self.zombies[row, -1] = zombie[2]\n",
    "                \n",
    "        \n",
    "    def move_zombies(self):\n",
    "        '''\n",
    "        moves zombies forward\n",
    "        '''\n",
    "        if self.zombie[:, 0].sum() > 0:\n",
    "            self.game_over = True\n",
    "        else:\n",
    "            new_board = np.zeros_like(self.zombies)\n",
    "            new_board[:, :-1] = self.zombies[:, 1:]\n",
    "            zelf.zombies = new_board\n",
    "        \n",
    "        \n",
    "    def plants_shoot(self):\n",
    "        '''\n",
    "        makes all plants shoot\n",
    "        should decrease zombie hp by the value\n",
    "        'number' shooters go first\n",
    "        'S' shooters go next, in the order Right to Left, then top to bottom\n",
    "        '''\n",
    "        self.number_shooters()\n",
    "        self.s_shooters()\n",
    "        \n",
    "    def number_shooters(self):\n",
    "        # if the row of the shooter is equal to the row of the zombie, zombie hp decreases by shooter amount\n",
    "        # if shots > hp, then overflow to next zombie\n",
    "        # get shots per row, and do theings to zombies based on that\n",
    "        for row in self.lawn.shape[0]:\n",
    "            # get number of shots\n",
    "            # decrement zombie health by number of shots\n",
    "            self.shots_shots_shots(row)\n",
    "        \n",
    "        \n",
    "        \n",
    "    def shots_shots_shots(self, row):\n",
    "        '''\n",
    "        handles shots on a single row\n",
    "        ----\n",
    "        params:\n",
    "            row: integer specifying the row in the lawn\n",
    "        '''\n",
    "        shots = sum([int(item) for item in self.lawn[row] if item.isdigit()])\n",
    "    \n",
    "    \n",
    "    def s_shooters(self):\n",
    "        pass"
   ]
  },
  {
   "cell_type": "code",
   "execution_count": 44,
   "metadata": {},
   "outputs": [
    {
     "ename": "NameError",
     "evalue": "name 'zombies' is not defined",
     "output_type": "error",
     "traceback": [
      "\u001b[0;31m---------------------------------------------------------------------------\u001b[0m",
      "\u001b[0;31mNameError\u001b[0m                                 Traceback (most recent call last)",
      "\u001b[0;32m<ipython-input-44-9bf8209bb5a0>\u001b[0m in \u001b[0;36m<module>\u001b[0;34m\u001b[0m\n\u001b[1;32m     15\u001b[0m \u001b[0;34m\u001b[0m\u001b[0m\n\u001b[1;32m     16\u001b[0m \u001b[0;34m\u001b[0m\u001b[0m\n\u001b[0;32m---> 17\u001b[0;31m \u001b[0mgame\u001b[0m \u001b[0;34m=\u001b[0m \u001b[0mGame\u001b[0m\u001b[0;34m(\u001b[0m\u001b[0msample_inputs\u001b[0m\u001b[0;34m)\u001b[0m\u001b[0;34m\u001b[0m\u001b[0;34m\u001b[0m\u001b[0m\n\u001b[0m",
      "\u001b[0;32m<ipython-input-43-f581d8c44d73>\u001b[0m in \u001b[0;36m__init__\u001b[0;34m(self, inputs)\u001b[0m\n\u001b[1;32m      2\u001b[0m \u001b[0;34m\u001b[0m\u001b[0m\n\u001b[1;32m      3\u001b[0m     \u001b[0;32mdef\u001b[0m \u001b[0m__init__\u001b[0m\u001b[0;34m(\u001b[0m\u001b[0mself\u001b[0m\u001b[0;34m,\u001b[0m \u001b[0minputs\u001b[0m\u001b[0;34m)\u001b[0m\u001b[0;34m:\u001b[0m\u001b[0;34m\u001b[0m\u001b[0;34m\u001b[0m\u001b[0m\n\u001b[0;32m----> 4\u001b[0;31m         \u001b[0mself\u001b[0m\u001b[0;34m.\u001b[0m\u001b[0mparse\u001b[0m\u001b[0;34m(\u001b[0m\u001b[0minputs\u001b[0m\u001b[0;34m)\u001b[0m\u001b[0;34m\u001b[0m\u001b[0;34m\u001b[0m\u001b[0m\n\u001b[0m\u001b[1;32m      5\u001b[0m         \u001b[0mself\u001b[0m\u001b[0;34m.\u001b[0m\u001b[0mturn\u001b[0m \u001b[0;34m=\u001b[0m \u001b[0;36m0\u001b[0m\u001b[0;34m\u001b[0m\u001b[0;34m\u001b[0m\u001b[0m\n\u001b[1;32m      6\u001b[0m \u001b[0;34m\u001b[0m\u001b[0m\n",
      "\u001b[0;32m<ipython-input-43-f581d8c44d73>\u001b[0m in \u001b[0;36mparse\u001b[0;34m(self, inputs)\u001b[0m\n\u001b[1;32m      9\u001b[0m         \u001b[0mself\u001b[0m\u001b[0;34m.\u001b[0m\u001b[0mgame_over\u001b[0m \u001b[0;34m=\u001b[0m \u001b[0;32mFalse\u001b[0m\u001b[0;34m\u001b[0m\u001b[0;34m\u001b[0m\u001b[0m\n\u001b[1;32m     10\u001b[0m         \u001b[0mself\u001b[0m\u001b[0;34m.\u001b[0m\u001b[0mparse_lawn\u001b[0m\u001b[0;34m(\u001b[0m\u001b[0minputs\u001b[0m\u001b[0;34m[\u001b[0m\u001b[0;36m0\u001b[0m\u001b[0;34m]\u001b[0m\u001b[0;34m)\u001b[0m\u001b[0;34m\u001b[0m\u001b[0;34m\u001b[0m\u001b[0m\n\u001b[0;32m---> 11\u001b[0;31m         \u001b[0mself\u001b[0m\u001b[0;34m.\u001b[0m\u001b[0mparse_zombies\u001b[0m\u001b[0;34m(\u001b[0m\u001b[0minputs\u001b[0m\u001b[0;34m[\u001b[0m\u001b[0;36m1\u001b[0m\u001b[0;34m]\u001b[0m\u001b[0;34m)\u001b[0m\u001b[0;34m\u001b[0m\u001b[0;34m\u001b[0m\u001b[0m\n\u001b[0m\u001b[1;32m     12\u001b[0m \u001b[0;34m\u001b[0m\u001b[0m\n\u001b[1;32m     13\u001b[0m     \u001b[0;32mdef\u001b[0m \u001b[0mparse_lawn\u001b[0m\u001b[0;34m(\u001b[0m\u001b[0mself\u001b[0m\u001b[0;34m,\u001b[0m \u001b[0mlawn\u001b[0m\u001b[0;34m)\u001b[0m\u001b[0;34m:\u001b[0m\u001b[0;34m\u001b[0m\u001b[0;34m\u001b[0m\u001b[0m\n",
      "\u001b[0;32m<ipython-input-43-f581d8c44d73>\u001b[0m in \u001b[0;36mparse_zombies\u001b[0;34m(self, inputs)\u001b[0m\n\u001b[1;32m     37\u001b[0m         \u001b[0;31m# we could use a numpy array for the zombies with location by row/col and values = hp\u001b[0m\u001b[0;34m\u001b[0m\u001b[0;34m\u001b[0m\u001b[0;34m\u001b[0m\u001b[0m\n\u001b[1;32m     38\u001b[0m         \u001b[0;31m# we could leave it as is, and reference it later\u001b[0m\u001b[0;34m\u001b[0m\u001b[0;34m\u001b[0m\u001b[0;34m\u001b[0m\u001b[0m\n\u001b[0;32m---> 39\u001b[0;31m         \u001b[0mself\u001b[0m\u001b[0;34m.\u001b[0m\u001b[0mzombie_waiting_list\u001b[0m \u001b[0;34m=\u001b[0m \u001b[0mzombies\u001b[0m\u001b[0;34m\u001b[0m\u001b[0;34m\u001b[0m\u001b[0m\n\u001b[0m\u001b[1;32m     40\u001b[0m         \u001b[0mself\u001b[0m\u001b[0;34m.\u001b[0m\u001b[0mzombies\u001b[0m \u001b[0;34m=\u001b[0m \u001b[0mnp\u001b[0m\u001b[0;34m.\u001b[0m\u001b[0mzeros\u001b[0m\u001b[0;34m(\u001b[0m\u001b[0mself\u001b[0m\u001b[0;34m.\u001b[0m\u001b[0mlawn\u001b[0m\u001b[0;34m.\u001b[0m\u001b[0mshape\u001b[0m\u001b[0;34m)\u001b[0m\u001b[0;34m\u001b[0m\u001b[0;34m\u001b[0m\u001b[0m\n\u001b[1;32m     41\u001b[0m \u001b[0;34m\u001b[0m\u001b[0m\n",
      "\u001b[0;31mNameError\u001b[0m: name 'zombies' is not defined"
     ]
    }
   ],
   "source": [
    "sample_inputs = [\n",
    "    [\n",
    "        '2       ',\n",
    "        '  S     ',\n",
    "        '21  S   ',\n",
    "        '13      ',\n",
    "        '2 3     '],\n",
    "        \n",
    "    [[0,4,28], # on round zero, a zombie appears on row 4\n",
    "     [1,1,6],  # on round one, a zombie appears on row 1\n",
    "     [2,0,10], # on round two, a zombie appears on row 0 and 4\n",
    "     [2,4,15], \n",
    "     [3,2,16], # on round three, a zombie appears on row 2 and 3\n",
    "     [3,3,13]]]\n",
    "\n",
    "\n",
    "game = Game(sample_inputs)\n"
   ]
  },
  {
   "cell_type": "code",
   "execution_count": 25,
   "metadata": {},
   "outputs": [
    {
     "data": {
      "text/plain": [
       "array([['2', ' ', ' ', ' ', ' ', ' ', ' ', ' '],\n",
       "       [' ', ' ', 'S', ' ', ' ', ' ', ' ', ' '],\n",
       "       ['2', '1', ' ', ' ', 'S', ' ', ' ', ' '],\n",
       "       ['1', '3', ' ', ' ', ' ', ' ', ' ', ' '],\n",
       "       ['2', ' ', '3', ' ', ' ', ' ', ' ', ' ']], dtype='<U1')"
      ]
     },
     "execution_count": 25,
     "metadata": {},
     "output_type": "execute_result"
    }
   ],
   "source": [
    "# check if this game object insstance has lawn info stored?\n",
    "\n",
    "game.lawn"
   ]
  },
  {
   "cell_type": "code",
   "execution_count": null,
   "metadata": {},
   "outputs": [],
   "source": [
    "new_board = np.zeros_like(zombie_board)"
   ]
  },
  {
   "cell_type": "code",
   "execution_count": null,
   "metadata": {},
   "outputs": [],
   "source": []
  },
  {
   "cell_type": "code",
   "execution_count": 14,
   "metadata": {},
   "outputs": [],
   "source": [
    "sample_lawn = sample_inputs[0]"
   ]
  },
  {
   "cell_type": "code",
   "execution_count": null,
   "metadata": {},
   "outputs": [],
   "source": []
  },
  {
   "cell_type": "code",
   "execution_count": 15,
   "metadata": {},
   "outputs": [
    {
     "data": {
      "text/plain": [
       "array([['2', ' ', ' ', ' ', ' ', ' ', ' ', ' '],\n",
       "       [' ', ' ', 'S', ' ', ' ', ' ', ' ', ' '],\n",
       "       ['2', '1', ' ', ' ', 'S', ' ', ' ', ' '],\n",
       "       ['1', '3', ' ', ' ', ' ', ' ', ' ', ' '],\n",
       "       ['2', ' ', '3', ' ', ' ', ' ', ' ', ' ']], dtype='<U1')"
      ]
     },
     "execution_count": 15,
     "metadata": {},
     "output_type": "execute_result"
    }
   ],
   "source": [
    "np.array([list(row) for row in sample_lawn])"
   ]
  },
  {
   "cell_type": "code",
   "execution_count": 28,
   "metadata": {},
   "outputs": [
    {
     "data": {
      "text/plain": [
       "[[0, 4, 28], [1, 1, 6], [2, 0, 10], [2, 4, 15], [3, 2, 16], [3, 3, 13]]"
      ]
     },
     "execution_count": 28,
     "metadata": {},
     "output_type": "execute_result"
    }
   ],
   "source": [
    "sample_zombies = sample_inputs[1]\n",
    "sample_zombies"
   ]
  },
  {
   "cell_type": "code",
   "execution_count": null,
   "metadata": {},
   "outputs": [],
   "source": []
  }
 ],
 "metadata": {
  "kernelspec": {
   "display_name": "Python 3",
   "language": "python",
   "name": "python3"
  },
  "language_info": {
   "codemirror_mode": {
    "name": "ipython",
    "version": 3
   },
   "file_extension": ".py",
   "mimetype": "text/x-python",
   "name": "python",
   "nbconvert_exporter": "python",
   "pygments_lexer": "ipython3",
   "version": "3.7.7"
  }
 },
 "nbformat": 4,
 "nbformat_minor": 4
}
